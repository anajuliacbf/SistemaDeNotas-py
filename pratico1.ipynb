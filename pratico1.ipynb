{
 "cells": [
  {
   "cell_type": "code",
   "execution_count": 41,
   "id": "697ddc24-33b9-476e-8f86-6fe5b8ba7936",
   "metadata": {},
   "outputs": [],
   "source": [
    "#pacotes necessários\n",
    "from scipy import * #pacote de programação científica usando o python\n",
    "from statistics import * #pacote de funções para cálculos de estatísticas matemáticas de dados numéricos (mean, median)\n",
    "import pandas as pd #pacote para manipular os dataframes\n",
    "import numpy as np #pacote para cálculos numéricos e científicos (std)"
   ]
  },
  {
   "cell_type": "code",
   "execution_count": 13,
   "id": "b5044b47-ef3f-49a6-be8c-1c896e7e527c",
   "metadata": {},
   "outputs": [],
   "source": [
    "lista_notas = [8,7,7,7,7,8,5,2,4,4,10,10,10,10,4,6,7,7,7,8]\n",
    "lista_idade = [10,11,12,9,10,11,10,10,10,10,11,11,10,9,10,10,11,11,10,10]"
   ]
  },
  {
   "cell_type": "code",
   "execution_count": 14,
   "id": "b56fd0eb-7b16-410d-8f0f-b46d51760379",
   "metadata": {},
   "outputs": [
    {
     "name": "stdout",
     "output_type": "stream",
     "text": [
      "A média das notas é: 6.9\n",
      "A mediana das notas é: 7.0\n",
      "A média das idades é: 10.3\n",
      "A mediana das idades é: 10.0\n"
     ]
    }
   ],
   "source": [
    "#calculando a média e a mediana para notas\n",
    "print(\"A média das notas é:\", mean(lista_notas))\n",
    "print(\"A mediana das notas é:\", median(lista_notas))\n",
    "\n",
    "#calculando a média e a mediana para idades\n",
    "print(\"A média das idades é:\", mean(lista_idade))\n",
    "print(\"A mediana das idades é:\", median(lista_idade))"
   ]
  },
  {
   "cell_type": "code",
   "execution_count": 15,
   "id": "b802ccdd-37cc-48f8-9567-83a2b704e3d1",
   "metadata": {},
   "outputs": [],
   "source": [
    "dict = {'notas': lista_notas, 'idade': lista_idade}"
   ]
  },
  {
   "cell_type": "code",
   "execution_count": 17,
   "id": "49d23010-bc70-4124-980c-bd51a07693de",
   "metadata": {},
   "outputs": [],
   "source": [
    "df = pd.DataFrame(dict)"
   ]
  },
  {
   "cell_type": "code",
   "execution_count": 18,
   "id": "de149db3-12fe-4491-a52b-06bd06399b4d",
   "metadata": {},
   "outputs": [
    {
     "data": {
      "text/html": [
       "<div>\n",
       "<style scoped>\n",
       "    .dataframe tbody tr th:only-of-type {\n",
       "        vertical-align: middle;\n",
       "    }\n",
       "\n",
       "    .dataframe tbody tr th {\n",
       "        vertical-align: top;\n",
       "    }\n",
       "\n",
       "    .dataframe thead th {\n",
       "        text-align: right;\n",
       "    }\n",
       "</style>\n",
       "<table border=\"1\" class=\"dataframe\">\n",
       "  <thead>\n",
       "    <tr style=\"text-align: right;\">\n",
       "      <th></th>\n",
       "      <th>notas</th>\n",
       "      <th>idade</th>\n",
       "    </tr>\n",
       "  </thead>\n",
       "  <tbody>\n",
       "    <tr>\n",
       "      <th>0</th>\n",
       "      <td>8</td>\n",
       "      <td>10</td>\n",
       "    </tr>\n",
       "    <tr>\n",
       "      <th>1</th>\n",
       "      <td>7</td>\n",
       "      <td>11</td>\n",
       "    </tr>\n",
       "    <tr>\n",
       "      <th>2</th>\n",
       "      <td>7</td>\n",
       "      <td>12</td>\n",
       "    </tr>\n",
       "    <tr>\n",
       "      <th>3</th>\n",
       "      <td>7</td>\n",
       "      <td>9</td>\n",
       "    </tr>\n",
       "    <tr>\n",
       "      <th>4</th>\n",
       "      <td>7</td>\n",
       "      <td>10</td>\n",
       "    </tr>\n",
       "    <tr>\n",
       "      <th>5</th>\n",
       "      <td>8</td>\n",
       "      <td>11</td>\n",
       "    </tr>\n",
       "    <tr>\n",
       "      <th>6</th>\n",
       "      <td>5</td>\n",
       "      <td>10</td>\n",
       "    </tr>\n",
       "    <tr>\n",
       "      <th>7</th>\n",
       "      <td>2</td>\n",
       "      <td>10</td>\n",
       "    </tr>\n",
       "    <tr>\n",
       "      <th>8</th>\n",
       "      <td>4</td>\n",
       "      <td>10</td>\n",
       "    </tr>\n",
       "    <tr>\n",
       "      <th>9</th>\n",
       "      <td>4</td>\n",
       "      <td>10</td>\n",
       "    </tr>\n",
       "    <tr>\n",
       "      <th>10</th>\n",
       "      <td>10</td>\n",
       "      <td>11</td>\n",
       "    </tr>\n",
       "    <tr>\n",
       "      <th>11</th>\n",
       "      <td>10</td>\n",
       "      <td>11</td>\n",
       "    </tr>\n",
       "    <tr>\n",
       "      <th>12</th>\n",
       "      <td>10</td>\n",
       "      <td>10</td>\n",
       "    </tr>\n",
       "    <tr>\n",
       "      <th>13</th>\n",
       "      <td>10</td>\n",
       "      <td>9</td>\n",
       "    </tr>\n",
       "    <tr>\n",
       "      <th>14</th>\n",
       "      <td>4</td>\n",
       "      <td>10</td>\n",
       "    </tr>\n",
       "    <tr>\n",
       "      <th>15</th>\n",
       "      <td>6</td>\n",
       "      <td>10</td>\n",
       "    </tr>\n",
       "    <tr>\n",
       "      <th>16</th>\n",
       "      <td>7</td>\n",
       "      <td>11</td>\n",
       "    </tr>\n",
       "    <tr>\n",
       "      <th>17</th>\n",
       "      <td>7</td>\n",
       "      <td>11</td>\n",
       "    </tr>\n",
       "    <tr>\n",
       "      <th>18</th>\n",
       "      <td>7</td>\n",
       "      <td>10</td>\n",
       "    </tr>\n",
       "    <tr>\n",
       "      <th>19</th>\n",
       "      <td>8</td>\n",
       "      <td>10</td>\n",
       "    </tr>\n",
       "  </tbody>\n",
       "</table>\n",
       "</div>"
      ],
      "text/plain": [
       "    notas  idade\n",
       "0       8     10\n",
       "1       7     11\n",
       "2       7     12\n",
       "3       7      9\n",
       "4       7     10\n",
       "5       8     11\n",
       "6       5     10\n",
       "7       2     10\n",
       "8       4     10\n",
       "9       4     10\n",
       "10     10     11\n",
       "11     10     11\n",
       "12     10     10\n",
       "13     10      9\n",
       "14      4     10\n",
       "15      6     10\n",
       "16      7     11\n",
       "17      7     11\n",
       "18      7     10\n",
       "19      8     10"
      ]
     },
     "execution_count": 18,
     "metadata": {},
     "output_type": "execute_result"
    }
   ],
   "source": [
    "df"
   ]
  },
  {
   "cell_type": "code",
   "execution_count": 22,
   "id": "2b811bf0-2ec7-4bf9-81a3-fd3c2e12cc17",
   "metadata": {},
   "outputs": [
    {
     "data": {
      "text/plain": [
       "5.3"
      ]
     },
     "execution_count": 22,
     "metadata": {},
     "output_type": "execute_result"
    }
   ],
   "source": [
    "#50% inferior\n",
    "#notas\n",
    "mean(df.notas.sort_values(ascending=True)[0:10]) #O intervalo é *fechado*. Por isso 0:10 e não 0:9"
   ]
  },
  {
   "cell_type": "code",
   "execution_count": 23,
   "id": "721d0260-8ce5-4865-a157-0d105a8bccad",
   "metadata": {},
   "outputs": [
    {
     "data": {
      "text/plain": [
       "8.5"
      ]
     },
     "execution_count": 23,
     "metadata": {},
     "output_type": "execute_result"
    }
   ],
   "source": [
    "#50% superior\n",
    "#notas\n",
    "mean(df.notas.sort_values(ascending=True)[10:20])"
   ]
  },
  {
   "cell_type": "code",
   "execution_count": 24,
   "id": "104fb003-43e7-4e44-8926-5296ed91dcf4",
   "metadata": {},
   "outputs": [
    {
     "data": {
      "text/plain": [
       "9.8"
      ]
     },
     "execution_count": 24,
     "metadata": {},
     "output_type": "execute_result"
    }
   ],
   "source": [
    "#50% inferior\n",
    "#idades\n",
    "mean(df.idade.sort_values(ascending=True)[0:10])"
   ]
  },
  {
   "cell_type": "code",
   "execution_count": 25,
   "id": "440f915c-47df-41e8-ab30-25a574b7e8ce",
   "metadata": {},
   "outputs": [
    {
     "data": {
      "text/plain": [
       "10.8"
      ]
     },
     "execution_count": 25,
     "metadata": {},
     "output_type": "execute_result"
    }
   ],
   "source": [
    "#50% superior\n",
    "#idades\n",
    "mean(df.idade.sort_values(ascending=True)[10:20])"
   ]
  },
  {
   "cell_type": "code",
   "execution_count": 26,
   "id": "b7939cf4-844b-444d-a6c0-424377cf7708",
   "metadata": {},
   "outputs": [
    {
     "data": {
      "text/plain": [
       "6.5"
      ]
     },
     "execution_count": 26,
     "metadata": {},
     "output_type": "execute_result"
    }
   ],
   "source": [
    "#média das notas para 50% menores idades\n",
    "df_ordenado_idades = df.sort_values(by=['idade'])\n",
    "df_recorte_menores_idades = df_ordenado_idades[0:10]\n",
    "mean(df_recorte_menores_idades.notas)"
   ]
  },
  {
   "cell_type": "code",
   "execution_count": 27,
   "id": "abc0d2aa-58df-470f-ad63-29df83343802",
   "metadata": {},
   "outputs": [
    {
     "data": {
      "text/plain": [
       "7.3"
      ]
     },
     "execution_count": 27,
     "metadata": {},
     "output_type": "execute_result"
    }
   ],
   "source": [
    "#média das notas para 50% maiores idades\n",
    "df_recorte_maiores_idades = df_ordenado_idades[10:20]\n",
    "mean(df_recorte_maiores_idades.notas)"
   ]
  },
  {
   "cell_type": "code",
   "execution_count": 53,
   "id": "416db2c1-1a36-496b-a788-36c9889d2fde",
   "metadata": {},
   "outputs": [
    {
     "data": {
      "text/plain": [
       "31.71894004092651"
      ]
     },
     "execution_count": 53,
     "metadata": {},
     "output_type": "execute_result"
    }
   ],
   "source": [
    "#coef notas\n",
    "cv_notas = np.std(lista_notas) / mean(lista_notas)\n",
    "cv_notas*100"
   ]
  },
  {
   "cell_type": "code",
   "execution_count": 57,
   "id": "06dc0022-9626-4b9c-8507-55fbdbec8819",
   "metadata": {},
   "outputs": [
    {
     "data": {
      "text/plain": [
       "6.933425658779465"
      ]
     },
     "execution_count": 57,
     "metadata": {},
     "output_type": "execute_result"
    }
   ],
   "source": [
    "#coef idades\n",
    "cv_idades = np.std(lista_idade) / mean(lista_idade)\n",
    "cv_idades*100"
   ]
  },
  {
   "cell_type": "code",
   "execution_count": 58,
   "id": "5bae655a-eb9a-46ab-890a-ff5a5bc2232d",
   "metadata": {},
   "outputs": [
    {
     "data": {
      "text/plain": [
       "PearsonRResult(statistic=0.14715498922948964, pvalue=0.5358452517595163)"
      ]
     },
     "execution_count": 58,
     "metadata": {},
     "output_type": "execute_result"
    }
   ],
   "source": [
    "#correlação\n",
    "stats.pearsonr(df.notas, df.idade)"
   ]
  },
  {
   "cell_type": "code",
   "execution_count": null,
   "id": "3d10203b-5968-4509-b2e8-4ba4fd5b5336",
   "metadata": {},
   "outputs": [],
   "source": [
    "#houve uma pequena diferença dos resultados do coeficiente padrão do programa feito em R para este, porque o método usado neste foi o Desvio Padrão Populacional, e naquele, Desvio Padrão Amostral."
   ]
  }
 ],
 "metadata": {
  "kernelspec": {
   "display_name": "Python 3 (ipykernel)",
   "language": "python",
   "name": "python3"
  },
  "language_info": {
   "codemirror_mode": {
    "name": "ipython",
    "version": 3
   },
   "file_extension": ".py",
   "mimetype": "text/x-python",
   "name": "python",
   "nbconvert_exporter": "python",
   "pygments_lexer": "ipython3",
   "version": "3.12.4"
  }
 },
 "nbformat": 4,
 "nbformat_minor": 5
}
